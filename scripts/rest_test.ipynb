{
 "cells": [
  {
   "cell_type": "code",
   "execution_count": 1,
   "id": "7b65912f",
   "metadata": {},
   "outputs": [],
   "source": [
    "import requests"
   ]
  },
  {
   "cell_type": "code",
   "execution_count": 2,
   "id": "758d7993",
   "metadata": {},
   "outputs": [],
   "source": [
    "import json"
   ]
  },
  {
   "cell_type": "code",
   "execution_count": 4,
   "id": "b71d7d43",
   "metadata": {},
   "outputs": [],
   "source": [
    "res_url = \"http://localhost:8080/api/v1/dataresources/478c6e2b-0929-4bf2-81c5-6824325c52ca\""
   ]
  },
  {
   "cell_type": "code",
   "execution_count": 5,
   "id": "c861f3ba",
   "metadata": {},
   "outputs": [],
   "source": [
    "response = requests.get(res_url)"
   ]
  },
  {
   "cell_type": "code",
   "execution_count": 7,
   "id": "dd0d2bcd",
   "metadata": {},
   "outputs": [
    {
     "data": {
      "text/plain": [
       "[{'id': '033af010-4b15-4374-9927-28fcb2400f1c',\n",
       "  'identifier': {'id': 2, 'value': '(:tba)', 'identifierType': 'DOI'},\n",
       "  'creators': [{'id': 2,\n",
       "    'familyName': 'Doe',\n",
       "    'givenName': 'John',\n",
       "    'affiliations': ['Karlsruhe Institute of Technology']}],\n",
       "  'titles': [{'id': 2,\n",
       "    'value': 'Most basic resource for testing',\n",
       "    'titleType': 'OTHER'}],\n",
       "  'publisher': 'SELF',\n",
       "  'publicationYear': '2023',\n",
       "  'resourceType': {'id': 2,\n",
       "   'value': 'testingSample',\n",
       "   'typeGeneral': 'DATASET'},\n",
       "  'dates': [{'id': 2, 'value': '2023-09-26T09:21:03Z', 'type': 'CREATED'}],\n",
       "  'alternateIdentifiers': [{'id': 2,\n",
       "    'value': '033af010-4b15-4374-9927-28fcb2400f1c',\n",
       "    'identifierType': 'INTERNAL'}],\n",
       "  'lastUpdate': '2023-09-26T09:21:03.798Z',\n",
       "  'state': 'VOLATILE',\n",
       "  'acls': [{'id': 2, 'sid': 'SELF', 'permission': 'ADMINISTRATE'}]},\n",
       " {'id': '478c6e2b-0929-4bf2-81c5-6824325c52ca',\n",
       "  'identifier': {'id': 4, 'value': '(:tba)', 'identifierType': 'DOI'},\n",
       "  'creators': [{'id': 4,\n",
       "    'familyName': 'Doe',\n",
       "    'givenName': 'John',\n",
       "    'affiliations': ['Karlsruhe Institute of Technology']}],\n",
       "  'titles': [{'id': 4,\n",
       "    'value': 'Most basic resource for testing',\n",
       "    'titleType': 'OTHER'}],\n",
       "  'publisher': 'SELF',\n",
       "  'publicationYear': '2023',\n",
       "  'resourceType': {'id': 4,\n",
       "   'value': 'testingSample',\n",
       "   'typeGeneral': 'DATASET'},\n",
       "  'dates': [{'id': 4, 'value': '2023-09-26T09:21:10Z', 'type': 'CREATED'}],\n",
       "  'alternateIdentifiers': [{'id': 4,\n",
       "    'value': '478c6e2b-0929-4bf2-81c5-6824325c52ca',\n",
       "    'identifierType': 'INTERNAL'}],\n",
       "  'lastUpdate': '2023-09-26T09:21:10.366Z',\n",
       "  'state': 'VOLATILE',\n",
       "  'acls': [{'id': 4, 'sid': 'SELF', 'permission': 'ADMINISTRATE'}]},\n",
       " {'id': '53b42741-9d4a-4c58-9366-502696bbe790',\n",
       "  'identifier': {'id': 1, 'value': '(:tba)', 'identifierType': 'DOI'},\n",
       "  'creators': [{'id': 1,\n",
       "    'familyName': 'Doe',\n",
       "    'givenName': 'John',\n",
       "    'affiliations': ['Karlsruhe Institute of Technology']}],\n",
       "  'titles': [{'id': 1,\n",
       "    'value': 'Most basic resource for testing',\n",
       "    'titleType': 'OTHER'}],\n",
       "  'publisher': 'SELF',\n",
       "  'publicationYear': '2023',\n",
       "  'resourceType': {'id': 1,\n",
       "   'value': 'testingSample',\n",
       "   'typeGeneral': 'DATASET'},\n",
       "  'dates': [{'id': 1, 'value': '2023-09-26T09:21:02Z', 'type': 'CREATED'}],\n",
       "  'alternateIdentifiers': [{'id': 1,\n",
       "    'value': '53b42741-9d4a-4c58-9366-502696bbe790',\n",
       "    'identifierType': 'INTERNAL'}],\n",
       "  'lastUpdate': '2023-09-26T09:21:02.056Z',\n",
       "  'state': 'VOLATILE',\n",
       "  'acls': [{'id': 1, 'sid': 'SELF', 'permission': 'ADMINISTRATE'}]},\n",
       " {'id': 'fbcaa69c-5f59-4ee8-afbb-0f5bf5bd1767',\n",
       "  'identifier': {'id': 3, 'value': '(:tba)', 'identifierType': 'DOI'},\n",
       "  'creators': [{'id': 3,\n",
       "    'familyName': 'Doe',\n",
       "    'givenName': 'John',\n",
       "    'affiliations': ['Karlsruhe Institute of Technology']}],\n",
       "  'titles': [{'id': 3,\n",
       "    'value': 'Most basic resource for testing',\n",
       "    'titleType': 'OTHER'}],\n",
       "  'publisher': 'SELF',\n",
       "  'publicationYear': '2023',\n",
       "  'resourceType': {'id': 3,\n",
       "   'value': 'testingSample',\n",
       "   'typeGeneral': 'DATASET'},\n",
       "  'dates': [{'id': 3, 'value': '2023-09-26T09:21:08Z', 'type': 'CREATED'}],\n",
       "  'alternateIdentifiers': [{'id': 3,\n",
       "    'value': 'fbcaa69c-5f59-4ee8-afbb-0f5bf5bd1767',\n",
       "    'identifierType': 'INTERNAL'}],\n",
       "  'lastUpdate': '2023-09-26T09:21:08.335Z',\n",
       "  'state': 'VOLATILE',\n",
       "  'acls': [{'id': 3, 'sid': 'SELF', 'permission': 'ADMINISTRATE'}]}]"
      ]
     },
     "execution_count": 7,
     "metadata": {},
     "output_type": "execute_result"
    }
   ],
   "source": [
    "response.json()"
   ]
  },
  {
   "cell_type": "code",
   "execution_count": null,
   "id": "4dc9efef",
   "metadata": {},
   "outputs": [],
   "source": []
  }
 ],
 "metadata": {
  "kernelspec": {
   "display_name": "Python 3 (ipykernel)",
   "language": "python",
   "name": "python3"
  },
  "language_info": {
   "codemirror_mode": {
    "name": "ipython",
    "version": 3
   },
   "file_extension": ".py",
   "mimetype": "text/x-python",
   "name": "python",
   "nbconvert_exporter": "python",
   "pygments_lexer": "ipython3",
   "version": "3.10.12"
  }
 },
 "nbformat": 4,
 "nbformat_minor": 5
}
