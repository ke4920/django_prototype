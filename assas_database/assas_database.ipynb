{
 "cells": [
  {
   "cell_type": "markdown",
   "metadata": {},
   "source": [
    "# Assas Data Handler"
   ]
  },
  {
   "cell_type": "code",
   "execution_count": 1,
   "metadata": {},
   "outputs": [],
   "source": [
    " \n",
    "#user = 'ke4920'\n",
    "#password = 'R.adio_!1234'\n",
    "#server = 'os.lsdf.kit.edu'\n",
    "#share = 'kit\\scc\\projects\\ASSAS'\n",
    "#archive = 'archive'\n",
    "\n",
    "#self.client_config = smbclient.ClientConfig(username=user,password=password)\n",
    "#self.session = smbclient.register_session(server, username=user, password=password)\n",
    "\n",
    "#smbclient.mkdir(r\"\\\\os.lsdf.kit.edu\\kit\\scc\\projects\\ASSAS\\test\", username=\"ke4920\", password=\"R.adio_!1234\")\n",
    "#\n",
    "#with smbclient.open_file(r\"\\\\os.lsdf.kit.edu\\kit\\scc\\projects\\ASSAS\\test\\file.txt\", mode=\"w+\") as fd:\n",
    "#    fd.write(u\"file contents\")"
   ]
  },
  {
   "cell_type": "code",
   "execution_count": 17,
   "metadata": {},
   "outputs": [],
   "source": [
    "import os\n",
    "import time\n",
    "import uuid\n",
    "import shutil\n",
    "import h5py\n",
    "import numpy as np\n",
    "\n",
    "from pymongo import MongoClient\n",
    "\n",
    "class DatabaseHandler:\n",
    "\n",
    "    def __init__(self, connectionstring):\n",
    "        \n",
    "        self.client = MongoClient(connectionstring)\n",
    "\n",
    "        self.db_handle = self.client[\"assas\"]\n",
    "        self.file_collection = self.db_handle[\"files\"]\n",
    "\n",
    "    def get_db_handle(self):\n",
    "\n",
    "        return self.db_handle\n",
    "\n",
    "    def get_file_collection(self):\n",
    "        \n",
    "        return self.file_collection\n",
    "    \n",
    "    def insert_file_document(self, file):\n",
    "\n",
    "        self.file_collection.insert_one(file)\n",
    "\n",
    "class AssasDataset:\n",
    "    \n",
    "    def __init__(self, mountpoint, archive_dir, tmp_dir):\n",
    "        \n",
    "        self.mount_point = mountpoint\n",
    "        self.archive_dir = archive_dir\n",
    "        self.tmp_dir = tmp_dir\n",
    "        \n",
    "        self.uuid = str(uuid.uuid4())\n",
    "        self.upload_time = str(time.time())\n",
    "        self.filename = \"dataset.h5\"\n",
    "        self.path = self.mount_point + self.archive_dir + str(self.uuid) + \"/\"\n",
    "\n",
    "    def read_binary(self):\n",
    "\n",
    "        self.name = \"scenario_x\"\n",
    "        self.variables = [\"var1\", \"var2\"]\n",
    "        self.channels = 4\n",
    "        self.meshes = 16\n",
    "        self.samples = 1000\n",
    "\n",
    "    def create_lsdf_archive(self):\n",
    "\n",
    "        if not os.path.isdir(self.mount_point + self.archive_dir):\n",
    "            os.mkdir(self.mount_point + self.archive_dir)\n",
    "        \n",
    "        if not os.path.isdir(self.path):\n",
    "            os.mkdir(self.path)\n",
    "    \n",
    "    def create_hdf5(self):\n",
    "\n",
    "        with h5py.File(self.path + self.filename, 'w') as h5f:\n",
    "\n",
    "            h5f.create_group('metadata')\n",
    "            h5f['metadata'].attrs['upload_time'] = 0\n",
    "\n",
    "            h5f.create_group('input')\n",
    "            h5f['input'].attrs['debris'] = 0\n",
    "\n",
    "            data_group = h5f.create_group('data')\n",
    "\n",
    "            for variable in self.variables:\n",
    "                variable_group = data_group.create_group(variable)\n",
    "                array = np.random.rand(self.channels, self.meshes, self.samples, 1).reshape(self.channels, self.meshes, self.samples)\n",
    "                variable_group.create_dataset(variable, data = array)\n",
    "\n",
    "        h5f.close()\n",
    "\n",
    "    def get_file_document(self):\n",
    "\n",
    "        return {\"uuid\": self.uuid, \"name\": self.name, \"path\": self.path, \"upload_time\": self.upload_time}\n",
    "\n",
    "class DatabaseManager:\n",
    "\n",
    "    def __init__(self):\n",
    "        \n",
    "        self.connectionstring = \"mongodb://localhost:27017/\"\n",
    "        self.mountpoint = \"/mnt/ASSAS/\"\n",
    "        self.archive_dir = \"test/\"\n",
    "        self.tmp_dir = \"./tmp\"\n",
    "\n",
    "        self.database_handler = DatabaseHandler(self.connectionstring)\n",
    "\n",
    "    def upload(self):\n",
    "\n",
    "        assas_dataset = AssasDataset(self.mountpoint, self.archive_dir, self.tmp_dir)\n",
    "        \n",
    "        assas_dataset.read_binary()\n",
    "\n",
    "        assas_dataset.create_lsdf_archive()\n",
    "        \n",
    "        assas_dataset.create_hdf5()\n",
    "\n",
    "        dataset_file_document = assas_dataset.get_file_document()\n",
    "        print(dataset_file_document)\n",
    "\n",
    "        self.database_handler.insert_file_document(dataset_file_document)\n",
    "        \n",
    "    def view(self):\n",
    "        \n",
    "        file_collection = self.database_handler.get_file_collection()\n",
    "        print(file_collection)\n",
    "\n",
    "        for file in file_collection.find():\n",
    "            print(file)\n"
   ]
  },
  {
   "cell_type": "code",
   "execution_count": 18,
   "metadata": {},
   "outputs": [],
   "source": [
    "database_manager = DatabaseManager()"
   ]
  },
  {
   "cell_type": "code",
   "execution_count": 22,
   "metadata": {},
   "outputs": [
    {
     "name": "stdout",
     "output_type": "stream",
     "text": [
      "{'uuid': '3cc6a43e-ab55-4754-8eaf-ddca3c9563fc', 'name': 'scenario_x', 'path': '/mnt/ASSAS/test/3cc6a43e-ab55-4754-8eaf-ddca3c9563fc/', 'upload_time': '1697547252.5545473'}\n"
     ]
    }
   ],
   "source": [
    "database_manager.upload()"
   ]
  },
  {
   "cell_type": "code",
   "execution_count": 23,
   "metadata": {},
   "outputs": [
    {
     "name": "stdout",
     "output_type": "stream",
     "text": [
      "Collection(Database(MongoClient(host=['localhost:27017'], document_class=dict, tz_aware=False, connect=True), 'assas'), 'files')\n",
      "{'_id': ObjectId('652e7f7f266b9bc08ba9ecf3'), '1': 1, '2': 2}\n",
      "{'_id': ObjectId('652e82ab7f534891b358fef3'), 'uuid': '1766e6d8-3ac4-4b02-833d-1dae8d175453', 'name': 'scenario_x', 'path': '/mnt/ASSAS/test/1766e6d8-3ac4-4b02-833d-1dae8d175453/', 'upload_time': '1697546922.6933124'}\n",
      "{'_id': ObjectId('652e830f7f534891b358fef5'), 'uuid': '10716c2b-6db6-48cf-84a6-4e0c94d86329', 'name': 'scenario_x', 'path': '/mnt/ASSAS/test/10716c2b-6db6-48cf-84a6-4e0c94d86329/', 'upload_time': '1697547022.6108284'}\n",
      "{'_id': ObjectId('652e83e77f534891b358fef7'), 'uuid': 'b245c3f3-fa3d-4cdd-ad94-2a793dd1f073', 'name': 'scenario_x', 'path': '/mnt/ASSAS/test/b245c3f3-fa3d-4cdd-ad94-2a793dd1f073/', 'upload_time': '1697547238.279937'}\n",
      "{'_id': ObjectId('652e83f57f534891b358fef8'), 'uuid': '3cc6a43e-ab55-4754-8eaf-ddca3c9563fc', 'name': 'scenario_x', 'path': '/mnt/ASSAS/test/3cc6a43e-ab55-4754-8eaf-ddca3c9563fc/', 'upload_time': '1697547252.5545473'}\n"
     ]
    }
   ],
   "source": [
    "database_manager.view()"
   ]
  },
  {
   "cell_type": "code",
   "execution_count": null,
   "metadata": {},
   "outputs": [],
   "source": []
  }
 ],
 "metadata": {
  "kernelspec": {
   "display_name": ".venv",
   "language": "python",
   "name": "python3"
  },
  "language_info": {
   "codemirror_mode": {
    "name": "ipython",
    "version": 3
   },
   "file_extension": ".py",
   "mimetype": "text/x-python",
   "name": "python",
   "nbconvert_exporter": "python",
   "pygments_lexer": "ipython3",
   "version": "3.10.12"
  }
 },
 "nbformat": 4,
 "nbformat_minor": 2
}
